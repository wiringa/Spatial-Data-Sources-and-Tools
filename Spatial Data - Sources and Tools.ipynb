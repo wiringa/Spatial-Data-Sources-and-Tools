{
 "cells": [
  {
   "cell_type": "markdown",
   "metadata": {},
   "source": [
    "# Spatial Data: Sources and Tools<br>UMN Day of Data 2019"
   ]
  },
  {
   "cell_type": "code",
   "execution_count": null,
   "metadata": {},
   "outputs": [],
   "source": [
    "%%html\n",
    "<style>.rendered_html img {max-width: 1000px; margin-left: 0; margin-right: 0;}</style>"
   ]
  },
  {
   "cell_type": "markdown",
   "metadata": {},
   "source": [
    "## Must be covered: Coordinate systems and projections\n",
    "\n",
    "### What we know\n",
    "\n",
    "We know the earth is neither flat nor spherical nor ellipsoidal, although it's commonly represented as an ellipsoid (oblate spheroid). We typically show maps in two dimensions and, for large-scale maps (showing a small area) we often use Cartesian coordinates (not lat/lng, just x,y).\n",
    "\n",
    "![Mercator projection compared with Equal Earth projection](https://i.imgur.com/gIbwdBB.png)\n",
    "Mercator projection (left), Equal Earth projection (right).<br>Images: [Equal Earth projection, shadedrelief.com](http://shadedrelief.com/ee_proj/)\n",
    "\n",
    "### Geographic coordinate systems (GCS)\n",
    "\n",
    "* Latitude and longitude\n",
    "* Different GCS use different datums, or representations of the earth, usually an ellipsoid (semimajor and semimajor axis lengths) and a starting point\n",
    "* WGS84 — global positioning system (GPS), uses the WGS84 datum\n",
    "* NAD83 — common in the US and Canada (with many variants), uses the GRS80 datum\n",
    "\n",
    "### Same location, different coordinates\n",
    "\n",
    "A single location, somewhere in Bellingham, WA.\n",
    "\n",
    "| Datum    | Longitude         | Latitude         |\n",
    "| -------- | ----------------- | ---------------- |\n",
    "| NAD 1927 | -122.466903686523 | 48.7440490722656 |\n",
    "| NAD 1983 | -122.46818353793  | 48.7438798543649 |\n",
    "| WGS 1984 | -122.46818353793  | 48.7438798534299 |\n",
    "\n",
    "Example from: [Projection basics the GIS professional needs to know](http://webhelp.esri.com/arcgisdesktop/9.3/index.cfm?TopicName=Projection_basics_the_GIS_professional_needs_to_know)\n",
    "\n",
    "### Projected coordinate systems (PCS)\n",
    "\n",
    "* Set of mathematical equations to transform geographic coordinates into planar coordinates (trig!); sometimes with additional rules/cases\n",
    "* PCS related to GCS, so datum does matter\n",
    "* How do you flatten a sphere, ellipsoid, or other representation of the earth and retain features?\n",
    "* Web Mercator is everywhere. Don't use it for analysis.\n",
    "\n",
    "### Distortion in projections\n",
    "\n",
    "* Equal-area projections preserve area\n",
    "* Conformal projections don't distort angles\n",
    "* Equidistant\n",
    "* Azimuthal preserves direction from a single location\n",
    "* Compromise (halfway happy?)\n",
    "\n",
    "### Spatial reference ID (SRID)\n",
    "\n",
    "* Unique identifiers for GCS/PCS\n",
    "* Many from the European Petroleum Survey Group (EPSG)\n",
    "* Check out [spatialreference.org](http://spatialreference.org/)\n",
    "\n",
    "### Minnesota\n",
    "\n",
    "* NAD83 / UTM zone 15N (EPSG:26915) is common for statewide (and TC metro)\n",
    "* WGS84 / UTM zone 15N (EPSG:32615) appearing more\n",
    "* Three State Plane Coordinate System zones\n",
    "* MnDOT breaks the state down extensively\n",
    "  * at least one coordinate system per county\n",
    "  * North Shore\n",
    "* Using ArcGIS and dealing with county coordinate systems? Install the coordinate systems add-on\n",
    "\n",
    "[![](https://i.imgur.com/jCrIYrX.png)](https://www.dot.state.mn.us/surveying/pdf/mncoordsys.pdf)\n",
    "\n",
    "### When is a foot not a foot?\n",
    "When it's a [US survey foot](https://en.wikipedia.org/wiki/Foot_(unit)#US_survey_foot)!\n",
    "\n",
    "The difference is small, but will add up over large areas. Know your linear unit of measure."
   ]
  },
  {
   "cell_type": "markdown",
   "metadata": {},
   "source": [
    "## Spatial data formats\n",
    "\n",
    "* OGC GeoPackage (first on the list, but not so common yet)\n",
    "* [Esri] Shapefile\n",
    "* GeoJSON\n",
    "* TopoJSON\n",
    "* Esri geodatabase\n",
    "    * enterprise\n",
    "    * file\n",
    "    * personal (don't do it!)\n",
    "* KML/Z\n",
    "* WKT\n",
    "* WKB"
   ]
  },
  {
   "cell_type": "markdown",
   "metadata": {},
   "source": [
    "## Data Sources\n",
    "\n",
    "### The world\n",
    "\n",
    "#### [Natural Earth](https://www.naturalearthdata.com/)\n",
    "\n",
    "Cultural and physical vector data at varying scales, plus large-scale raster data.\n",
    "\n",
    "[![](https://i.imgur.com/NSeG8Pg.png)](https://www.naturalearthdata.com/)\n",
    "\n",
    "\n",
    "#### [GADM (global administrative boundaries)](https://gadm.org/)\n",
    "\n",
    "[![](https://i.imgur.com/73TCYpz.png)](https://gadm.org/)\n",
    "\n",
    "\n",
    "#### [TransitFeeds.com](http://transitfeeds.com/)\n",
    "General Transit Feed Specification (GTFS) data from around the world.\n",
    "\n",
    "> An extensive archive of public transit data for software developers, transit agencies and more. Browse and download official GTFS & GTFS-realtime feeds from around the world. -- \n",
    "\n",
    "#### [USGS EarthExplorer](https://earthexplorer.usgs.gov/)\n",
    "\n",
    "Search by AOI, date, and more. Good source for Landsat and Sentinel-2 imagery, among many others.\n",
    "\n",
    "### United States\n",
    "\n",
    "#### [The National Map](https://www.usgs.gov/core-science-systems/national-geospatial-program/national-map)\n",
    "\n",
    "Another source for a variety of maps and data, US only.\n",
    "\n",
    "#### [U.S. Census Bureau](https://www.census.gov/)\n",
    "\n",
    "* Decennial Census\n",
    "* American Community Survey (ACS)\n",
    "* [![American Fact Finder banner and logo](https://i.imgur.com/PJgFQIF.png)](https://factfinder.census.gov/) [American Fact Finder](https://factfinder.census.gov/) (data access)\n",
    "\n",
    "* [![TIGER/Line logo](https://i.imgur.com/7ppcgu3.png)](https://www.census.gov/geo/maps-data/data/tiger-line.html)\n",
    "Statistical and administrative units ([TIGER/Line](https://www.census.gov/geo/maps-data/data/tiger-line.html)) \n",
    "\n",
    "#### [National Historical Geographic Information System (NHGIS)](https://www.nhgis.org/)\n",
    "\n",
    "[![](https://i.imgur.com/MrgAehR.png)](https://www.nhgis.org/)\n",
    "\n",
    "* An IPUMS product\n",
    "* Significantly more usable interface for obtaining Decennial Census, ACS, and other demographic data from the U.S. Census Bureau\n",
    "* Same holds for geography/geometry\n",
    "* Coastal water (including Great Lakes) are erased from their boundaries, which is great for working with Minnesota when Census cartographic boundaries won't cut it\n",
    "\n",
    "\n",
    "#### [PRISM Climate Data](http://prism.oregonstate.edu/)\n",
    "From the PRISM Climate Group at Oregon State, includes temperatures, precipitation, and more for the US, including 30-year normals, yearly, and monthly values.\n",
    "\n",
    "![30-year normal precipitation (annual) map of the U.S.](https://i.imgur.com/E0dVQtN.png)\n",
    "\n",
    "\n",
    "#### [USDA NRCS Geospatial Data Gateway](https://datagateway.nrcs.usda.gov/)\n",
    "Find NAIP imagery and a variety of other data by location.\n",
    "\n",
    "Looking for Minnesota NAIP imagery? See the goodies section.\n",
    "\n",
    "\n",
    "### Minnesota\n",
    "\n",
    "#### [Minnesota Geospatial Commons](https://gisdata.mn.gov/)\n",
    "[![Minnesota Geospatial Commons wordmark](https://i.imgur.com/uvblB2D.png)](https://gisdata.mn.gov/)\n",
    "Looking for geospatial data related to Minnesota? Start here. The U, state agencies, counties, the Met Council, and more.\n",
    "* [MnDOT datasets](https://gisdata.mn.gov/organization/us-mn-state-dot) available via the Commons (e.g., centerlines, airports)\n",
    "* [MetroGIS Regional Parcel Dataset (quarterly)](https://gisdata.mn.gov/dataset/us-mn-state-metrogis-plan-regonal-prcls-open), plus end-of-year options back to 2002\n",
    "* [MNDNR Hydrography](https://gisdata.mn.gov/dataset/water-dnr-hydrography)\n",
    "* [City, township, and unorganized territory (CTU) boundaries](https://gisdata.mn.gov/dataset/bdry-mn-city-township-unorg)\n",
    "\n",
    "#### [MnTopo](http://arcgis.dnr.state.mn.us/maps/mntopo/)\n",
    "Select an area of interest, get zipped data\n",
    "* DEM\n",
    "* Elevation contours\n",
    "* Hillshades\n",
    "* LiDAR points (LAS)\n",
    "* Building footprints (your mileage will vary)\n",
    "\n",
    "![Screenshot of MnTOPO interface with download options](https://i.imgur.com/dj0ygo1.png)\n",
    "\n",
    "#### [Borchert Map Library](https://www.lib.umn.edu/borchert)\n",
    "* [Minnesota Historical Aerial Photographs Online (MHAPO)](https://www.lib.umn.edu/apps/mhapo/)\n",
    "* [Map & Geography Related Online Resources](https://www.lib.umn.edu/borchert/map-geography-online-resources)\n",
    "\n",
    "#### [Remote Sensing and Geospatial Analysis Laboratory](https://rs.umn.edu/mndata)\n",
    "* various land cover, imperviousness, and canopy products\n",
    "* 15-meter resolution statewide, 1-meter metro areas\n",
    "* [Minnesota Geospatial Image Service](http://www.mngeo.state.mn.us/chouse/wms/geo_image_server.html)\n",
    "\n",
    "#### [Minnesota LiDAR information](http://www.mngeo.state.mn.us/chouse/elevation/lidar.html)\n",
    "* Easy to get via MnTopo for small areas\n",
    "* Note that it's a bit dated; there's hope for new collections (effort underway?)\n",
    "\n",
    "### Goodies on `files.umn.edu`\n",
    "\n",
    "U-Spatial keeps a collection of datasets on `files.umn.edu` for anyone at the U to use (at least, for research and teaching). These datasets tend to be large, difficult to easily come by, or slow to download from their authoritative home.\n",
    "\n",
    "`\\\\files.umn.edu\\us\\gis\\u-spatial\\UMN_Users\\data`\n",
    "\n",
    "You can also try getting there using [webfiles.umn.edu](https://webfiles.umn.edu).\n",
    "\n",
    "* Census -- some enumeration units because the Census FTP server can be dreadful\n",
    "* Esri Data -- Includes the latest address locator files from the Business Analyst US 2018 data (for research and academic use only)\n",
    "* Imagery\n",
    "    * National Agriculture Imagery Program (NAIP), whole-state four-band (RGB + NIR) for various years; not flown every year\n",
    "    * Hennepin County<sup>*</sup>\n",
    "    * Ramsey County<sup>*</sup>\n",
    "    * <sup>*</sup>_For use other than research and academic use, check with U-Spatial_\n",
    "* Soil -- Minnesota and surrounding states gridded SSURGO data"
   ]
  },
  {
   "cell_type": "markdown",
   "metadata": {},
   "source": [
    "## Apps, tools, symbolization\n",
    "\n",
    "### [QGIS](https://qgis.org/)\n",
    "\n",
    "<img src=\"https://i.imgur.com/mOZFDzL.png\" alt=\"QGIS logo\" style=\"max-width:300px;\">\n",
    "QGIS is free and open source software, cross-platform, and has a solid set of plugins. Give it a spin, especially if you're not running Windows.\n",
    "\n",
    "And, if you find yourself using ArcGIS primarily to view data, you might find QGIS quite a bit faster for some things.\n",
    "\n",
    "### R/RStudio\n",
    "\n",
    "FWIW, I'm not a regular R user, but R (with RStudio on top of it) has come a long way and is becoming more popular for making maps, and as a stats application offers a lot of power when working with attribute data.\n",
    "\n",
    "As seen at FOSS4G NA 2018:"
   ]
  },
  {
   "cell_type": "code",
   "execution_count": 1,
   "metadata": {},
   "outputs": [
    {
     "data": {
      "text/html": [
       "<blockquote class=\"twitter-tweet\" data-lang=\"en\"><p lang=\"en\" dir=\"ltr\">Thanks to everyone who came to Mapping American Community Survey with R! <a href=\"https://twitter.com/hashtag/FOSS4GNA?src=hash&amp;ref_src=twsrc%5Etfw\">#FOSS4GNA</a> Workshop Materials: <a href=\"https://t.co/A3BKL6XLKe\">https://t.co/A3BKL6XLKe</a></p>&mdash; Lee Hachadoorian (@LHachadoorian) <a href=\"https://twitter.com/LHachadoorian/status/996426940717379584?ref_src=twsrc%5Etfw\">May 15, 2018</a></blockquote>\n",
       "<script async src=\"https://platform.twitter.com/widgets.js\" charset=\"utf-8\"></script>\n"
      ],
      "text/plain": [
       "<IPython.core.display.HTML object>"
      ]
     },
     "metadata": {},
     "output_type": "display_data"
    }
   ],
   "source": [
    "%%html\n",
    "<blockquote class=\"twitter-tweet\" data-lang=\"en\"><p lang=\"en\" dir=\"ltr\">Thanks to everyone who came to Mapping American Community Survey with R! <a href=\"https://twitter.com/hashtag/FOSS4GNA?src=hash&amp;ref_src=twsrc%5Etfw\">#FOSS4GNA</a> Workshop Materials: <a href=\"https://t.co/A3BKL6XLKe\">https://t.co/A3BKL6XLKe</a></p>&mdash; Lee Hachadoorian (@LHachadoorian) <a href=\"https://twitter.com/LHachadoorian/status/996426940717379584?ref_src=twsrc%5Etfw\">May 15, 2018</a></blockquote>\n",
    "<script async src=\"https://platform.twitter.com/widgets.js\" charset=\"utf-8\"></script>"
   ]
  },
  {
   "cell_type": "markdown",
   "metadata": {},
   "source": [
    "### Esri ArcGIS\n",
    "The University of Minnesota has an enterprise agreement with Esri that makes most Esri software available to researchers, instructors, and students at no cost (some differences for admin use). Good for U-owned machines. For personal machines contact [uspatial@umn.edu](mailto:uspatial@umn.edu) for a license code for covered software. See the [U-Spatial software page](https://research.umn.edu/units/uspatial/software) for more details.\n",
    "\n",
    "#### Some of the software\n",
    "* [ArcGIS Online](https://umn.maps.arcgis.com/)\n",
    "* ArcGIS Desktop\n",
    "    * contemporary: [ArcGIS Pro](http://pro.arcgis.com/en/pro-app/)\n",
    "    * \"legacy:\" [ArcMap/ArcCatalog](http://desktop.arcgis.com/en/arcmap/)\n",
    "* [Business Analyst Desktop](https://doc.arcgis.com/en/business-analyst/desktop/what-is-business-analyst.htm) with US dataset\n",
    "* [Business Analyst Online](https://doc.arcgis.com/en/business-analyst/web/welcome.htm)\n",
    "* [Survey123](https://survey123.arcgis.com/) (surveys that can easily take point location input)\n",
    "* [Collector for ArcGIS](https://www.esri.com/en-us/arcgis/products/collector-for-arcgis/overview) (field data collection)\n",
    "* [ArcGIS Enterprise](https://enterprise.arcgis.com/en/) (Server and Portal)\n",
    "\n",
    "#### Data\n",
    "ArcGIS Online offers basemaps and a variety of spatial data (e.g., [Living Atlas](https://livingatlas.arcgis.com/en/)) that can be used in ArcGIS Online and other Esri/ArcGIS products.\n",
    "\n",
    "The Business Analyst US 2018 dataset includes ACS data, derived demographics, business listings, address coders, and more. \n",
    "\n",
    "#### Tip: Python scripting using `arcpy`\n",
    "\n",
    "If you're using an ArcGIS Desktop product for the tools and want to develop a workflow using the Python `arcpy` module, do it! Easy option: Run a tool with the appropriate parameters in ArcGIS and \"copy Python snippet\" into a `.py` file somewhere else. Not everything in ArcGIS is available in `arcpy`, but you'll be mostly covered. If you're comfortable with Python, it's arguably a lot easier than using ModelBuilder.\n",
    "\n",
    "![](https://i.imgur.com/38c1HkV.png)"
   ]
  },
  {
   "cell_type": "markdown",
   "metadata": {},
   "source": [
    "```\n",
    "arcpy.management.AddField(\n",
    "    r\"C:\\workspaceC\\MWMO_flowpath_pro\\MWMO_flowpath_pro.gdb\\subshed_initial\\subshed_flow_path_points\",\n",
    "    \"PathOrder\",\n",
    "    \"Short\",\n",
    "    None,\n",
    "    None,\n",
    "    None,\n",
    "    None,\n",
    "    \"NULLABLE\",\n",
    "    \"REQUIRED\",\n",
    "    None,\n",
    ")\n",
    "```"
   ]
  },
  {
   "cell_type": "markdown",
   "metadata": {},
   "source": [
    "### Python modules  `fiona` and `shapely`\n",
    "\n",
    "`fiona` is a go-to Python module for reading and writing shapefiles.\n",
    "\n",
    "Want to operate on geometries? See your geometries easily in Jupyter? Check out `shapely`. Want convex hulls? Buffers? Manipulation is easy, and it's easy to tie together with Fiona and GeoJSON."
   ]
  },
  {
   "cell_type": "code",
   "execution_count": null,
   "metadata": {},
   "outputs": [],
   "source": [
    "# Check the coordinate reference system (CRS) and schema of the source file\n",
    "import os\n",
    "import fiona\n",
    "from pprint import pprint\n",
    "\n",
    "with fiona.open(os.path.join('data', 'MN_tract_2010_wgs84.shp')) as _in:\n",
    "    print('CRS:', _in.crs, '\\n')\n",
    "    pprint(_in.schema)"
   ]
  },
  {
   "cell_type": "code",
   "execution_count": null,
   "metadata": {},
   "outputs": [],
   "source": [
    "# Who needs geometry? Count tracts by county (FIPS), get the seven most common\n",
    "from collections import Counter\n",
    "with fiona.open(os.path.join('data', 'MN_tract_2010_wgs84.shp')) as _in:\n",
    "    tractsByCounty = Counter([x['properties']['COUNTYFP10'] for x in _in])\n",
    "pprint(tractsByCounty.most_common()[:7])"
   ]
  },
  {
   "cell_type": "code",
   "execution_count": null,
   "metadata": {},
   "outputs": [],
   "source": [
    "# Why download county population counts? Roll them up from tracts\n",
    "with fiona.open(os.path.join('data', 'MN_tract_2010_wgs84.shp')) as _in:\n",
    "    popByCounty = Counter()\n",
    "    [popByCounty.update({x['properties']['COUNTYFP10']: x['properties']['POP2010']}) for x in _in]\n",
    "pprint(popByCounty.most_common()[:7])"
   ]
  },
  {
   "cell_type": "code",
   "execution_count": null,
   "metadata": {},
   "outputs": [],
   "source": [
    "# Stop reading the file over and over, just keep it in memory\n",
    "with fiona.open(os.path.join('data', 'MN_tract_2010_wgs84.shp')) as _in:\n",
    "    tracts = [x for x in _in]"
   ]
  },
  {
   "cell_type": "code",
   "execution_count": null,
   "metadata": {},
   "outputs": [],
   "source": [
    "# Union the tracts together to get counties\n",
    "from shapely.geometry import shape\n",
    "from shapely.ops import unary_union\n",
    "countyGeoms = {x['properties']['COUNTYFP10']: [] for x in tracts}\n",
    "[countyGeoms[x['properties']['COUNTYFP10']].append(shape(x['geometry'])) for x in tracts]\n",
    "for k, v in countyGeoms.items():\n",
    "    countyGeoms[k] = unary_union(v)"
   ]
  },
  {
   "cell_type": "code",
   "execution_count": null,
   "metadata": {},
   "outputs": [],
   "source": [
    "# Ramsey\n",
    "countyGeoms['123']"
   ]
  },
  {
   "cell_type": "code",
   "execution_count": null,
   "metadata": {},
   "outputs": [],
   "source": [
    "# Hennepin\n",
    "countyGeoms['053']"
   ]
  },
  {
   "cell_type": "code",
   "execution_count": null,
   "metadata": {},
   "outputs": [],
   "source": [
    "# The seven county metro\n",
    "from shapely.geometry import MultiPolygon\n",
    "MultiPolygon([g for k, g in countyGeoms.items() if k in ['003', '019', '037', '053', '123', '139', '163']])"
   ]
  },
  {
   "cell_type": "code",
   "execution_count": null,
   "metadata": {},
   "outputs": [],
   "source": [
    "# Union the counties together to get the state\n",
    "mn = unary_union(countyGeoms.values())\n",
    "mn"
   ]
  },
  {
   "cell_type": "code",
   "execution_count": null,
   "metadata": {},
   "outputs": [],
   "source": [
    "# A most exciting point\n",
    "from shapely.geometry import Point\n",
    "ourCoords = (-93.237278, 44.974063)\n",
    "weAreHere = Point(ourCoords)\n",
    "weAreHere"
   ]
  },
  {
   "cell_type": "code",
   "execution_count": null,
   "metadata": {},
   "outputs": [],
   "source": [
    "# Basic intersection testing\n",
    "print('We are in Minnesota?', weAreHere.intersects(mn))\n",
    "print('We are in Ramsey County?', weAreHere.intersects(countyGeoms['123']))\n",
    "print('We are in Hennepin County?', weAreHere.intersects(countyGeoms['053']))"
   ]
  },
  {
   "cell_type": "code",
   "execution_count": null,
   "metadata": {},
   "outputs": [],
   "source": [
    "# What tract are we in? Better ways to do this, no doubt, but this is quick enough\n",
    "for t in [x for x in tracts if x['properties']['COUNTYFP10'] == '053']:\n",
    "    if weAreHere.intersects(shape(t['geometry'])):\n",
    "        print('Located Hennepin County, {}'.format(t['properties']['NAMELSAD10'])) \n",
    "        break"
   ]
  },
  {
   "cell_type": "code",
   "execution_count": null,
   "metadata": {},
   "outputs": [],
   "source": [
    "# How many transit stops (excluding MVTA) are there within\n",
    "# a half kilometer of our point?\n",
    "import csv\n",
    "bufferDist = 500\n",
    "with open(os.path.join('data', 'transit_stops.txt')) as _in:\n",
    "    reader = csv.DictReader(_in)\n",
    "    stops = [row for row in reader]\n",
    "\n",
    "# Buffering geographic coordinates doesn't work well, convert\n",
    "# to UTM15/WGS84 (EPSG:32615). Using utm, could also use pyproj.\n",
    "# The linear unit of measure is meters. \n",
    "import utm\n",
    "bufferedHere = Point(utm.from_latlon(*reversed(ourCoords))[:2]).buffer(bufferDist)\n",
    "\n",
    "# Create points for all the stops in the same PCS and test\n",
    "nearbyStops = []\n",
    "for s in stops:\n",
    "    pt = Point(utm.from_latlon(float(s['stop_lat']), float(s['stop_lon']))[:2])\n",
    "    if pt.intersects(bufferedHere):\n",
    "        nearbyStops.append(s['stop_name'])\n",
    "\n",
    "print(f'There are {len(nearbyStops)} stops with {bufferDist}m of our location:')\n",
    "for x in sorted(nearbyStops):\n",
    "    print('-', x)"
   ]
  },
  {
   "cell_type": "markdown",
   "metadata": {},
   "source": [
    "### [mapshaper](https://mapshaper.org/)\n",
    "Need to convert a shapefile to GeoJSON? TopoJSON? Some other direction? Mapshaper can help. Simplification options are included, coordinate precision control is provided (avoid GeoJSON bloat!), field can be excluded, and more. Node.js app with CLI and GUI interfaces.\n",
    "\n",
    "A note on TopoJSON: It's great for data with shared boundaries, e.g. states, counties, and Census statistical enumeration units, not so useful without replicated geometry.\n",
    "\n",
    "![Screenshot of Minnesota voting districts and export options in MapShaper](https://i.imgur.com/xFCrHYa.png)\n",
    "\n",
    "#### Quick demo of mashaper GUI\n",
    "1. [Download MN county boundaries](https://maps.umn.edu/day-of-data-2019/shp_bdry_counties_in_minnesota.zip) ([alternate link](ftp://ftp.gisdata.mn.gov/pub/gdrs/data/pub/us_mn_state_dnr/bdry_counties_in_minnesota/shp_bdry_counties_in_minnesota.zip))\n",
    "3. Visit [mapshaper](https://mapshaper.org)\n",
    "4. Upload the boundaries\n",
    "5. Try out simplification\n",
    "\n",
    "### [LAStools](https://rapidlasso.com/LAStools/)\n",
    "Working with LiDAR data? Need to generate a DEM, DSM, or other product from classified point? Check out LAStools, which the U licenses. See the [LAStools section on the U-Spatial software page](https://research.umn.edu/units/uspatial/software#lastools) for more details.\n",
    "\n",
    "![view of Bruininks hall and more using lasview](https://i.imgur.com/jhU6bO7.png)\n",
    "\n",
    "Data: [LiDAR Elevation, Twin Cities Metro Region, Minnesota, 2011](https://gisdata.mn.gov/dataset/elev-lidar-metro2011)\n",
    "\n",
    "### [BBBike Map Compare tool](https://mc.bbbike.org/mc/)\n",
    "You might just want a basemap. Side-by-side comparison of basemaps. Choose wisely; know the purpose of your map before choosing a basemap and before symbolizing what you put on top of the basemap.\n",
    "[![screenshot of BBBike Map Compare tool](https://i.imgur.com/Ishawog.jpg)](https://mc.bbbike.org/mc/)\n",
    "\n",
    "### [ColorBrewer](http://colorbrewer2.org)\n",
    "\n",
    "Color vision deficiency (CVD) affects roughly 4-5% of the population, predominantly men, and can pose significant accessibility and usability problems with maps, websites, and more. ColorBrewer presents a range of color palettes and ramps, with a colorblind-friendly option available.\n",
    "\n",
    "ColorBrewer styles are being baked into more apps, e.g. D3, ArcGIS Pro, and QGIS. Default color schemes may get tiresome, but at least a colorblind-friendly default won't cause accessibility problems.\n",
    "\n",
    "[![screeshot of colorbrewer2.org](https://i.imgur.com/Kdvz9fM.png)](http://colorbrewer2.org)"
   ]
  },
  {
   "cell_type": "markdown",
   "metadata": {},
   "source": [
    "## Learning, training, etc\n",
    "\n",
    "### U-Spatial\n",
    "[U-Spatial offers training](https://research.umn.edu/units/uspatial/training) throughout fall and spring semesters. These are typically half-day or full-day workshops, at little or no cost for UMN attendees. Most training materials are available for download off the webpage.\n",
    "\n",
    "### QGIS learning\n",
    "* [QGIS training material](https://www.qgis.org/en/site/forusers/trainingmaterial/)\n",
    "* [PyQGIS 101](https://anitagraser.com/pyqgis-101-introduction-to-qgis-python-programming-for-non-programmers/)\n",
    "\n",
    "### ArcGIS training\n",
    "Many (all?) of Esri's web courses are available at no charge to UMN students, faculty, and staff. Visit the [Esri course catalog](https://www.esri.com/training/catalog/search/) when signed in to Esri with your Internet ID to see the offerings. Try limiting to \"web courses.\"\n",
    "\n",
    "[![screenshot of Esri training catalog search](https://i.imgur.com/u7bHOt1.png)](https://www.esri.com/training/catalog/search/)\n",
    "\n",
    "### Esri event videos\n",
    "U-Spatial purchases videos of sessions from the Esri User Conference and Esri Developer Summit. Find them near the goodies at `\\\\files.umn.edu\\us\\gis\\u-spatial\\UMN_Users\\videos` (or [webfiles.umn.edu](https://webfiles.umn.edu)).\n",
    "\n",
    "### FOSS4G (internationl and more)\n",
    "Some FOSS4G conferences have slides and/or video for sessions available, for example [FOSS4G 2017 (Boston)](http://2017.foss4g.org/post_conference/#slides)."
   ]
  }
 ],
 "metadata": {
  "kernelspec": {
   "display_name": "Python (dod2)",
   "language": "python",
   "name": "dod2"
  },
  "language_info": {
   "codemirror_mode": {
    "name": "ipython",
    "version": 3
   },
   "file_extension": ".py",
   "mimetype": "text/x-python",
   "name": "python",
   "nbconvert_exporter": "python",
   "pygments_lexer": "ipython3",
   "version": "3.6.6"
  }
 },
 "nbformat": 4,
 "nbformat_minor": 2
}
